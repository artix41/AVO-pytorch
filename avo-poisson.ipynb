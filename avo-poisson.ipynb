{
 "cells": [
  {
   "cell_type": "markdown",
   "metadata": {},
   "source": [
    "# AVORIM for a Poisson simulator"
   ]
  },
  {
   "cell_type": "code",
   "execution_count": 1,
   "metadata": {
    "collapsed": true
   },
   "outputs": [],
   "source": [
    "import numpy as np\n",
    "import matplotlib.pyplot as plt\n",
    "%matplotlib inline\n",
    "import copy\n",
    "\n",
    "import torch\n",
    "import torch.nn as nn\n",
    "import torch.nn.functional as F\n",
    "from torch.nn.parameter import Parameter\n",
    "import torch.autograd as autograd\n",
    "\n",
    "from IPython.display import clear_output\n",
    "from tqdm import tqdm"
   ]
  },
  {
   "cell_type": "markdown",
   "metadata": {},
   "source": [
    "## Constants"
   ]
  },
  {
   "cell_type": "markdown",
   "metadata": {},
   "source": [
    "### Simulator parameters"
   ]
  },
  {
   "cell_type": "code",
   "execution_count": 2,
   "metadata": {
    "collapsed": true
   },
   "outputs": [],
   "source": [
    "lambda_poisson = 7\n",
    "nb_samples = 20000"
   ]
  },
  {
   "cell_type": "markdown",
   "metadata": {},
   "source": [
    "### Network parameters"
   ]
  },
  {
   "cell_type": "code",
   "execution_count": 3,
   "metadata": {
    "collapsed": true
   },
   "outputs": [],
   "source": [
    "batch_size = 64\n",
    "lambda_gp = 1\n",
    "gamma_entropy = 100"
   ]
  },
  {
   "cell_type": "code",
   "execution_count": 4,
   "metadata": {
    "collapsed": true
   },
   "outputs": [],
   "source": [
    "critic_params = {\"lr\": 1e-3,\n",
    "                 \"nb_steps\": 1,\n",
    "                 \"nb_hiddens\": 10\n",
    "                }"
   ]
  },
  {
   "cell_type": "code",
   "execution_count": 5,
   "metadata": {
    "collapsed": true
   },
   "outputs": [],
   "source": [
    "proposal_params = {\"lr\": 1e-3,\n",
    "                   \"beta1\": 0.5,\n",
    "                   \"beta2\": 0.9\n",
    "                  }"
   ]
  },
  {
   "cell_type": "code",
   "execution_count": 6,
   "metadata": {
    "collapsed": true
   },
   "outputs": [],
   "source": [
    "gen_params = {\"nb_steps\": 1}"
   ]
  },
  {
   "cell_type": "markdown",
   "metadata": {},
   "source": [
    "## Generation of the data"
   ]
  },
  {
   "cell_type": "markdown",
   "metadata": {},
   "source": [
    "### Build the simulator"
   ]
  },
  {
   "cell_type": "code",
   "execution_count": 7,
   "metadata": {
    "collapsed": true
   },
   "outputs": [],
   "source": [
    "def simulator(theta):\n",
    "    # lambda = exp(theta) (for positivity)\n",
    "    return np.random.poisson(np.exp(theta))"
   ]
  },
  {
   "cell_type": "markdown",
   "metadata": {},
   "source": [
    "### Generate the data"
   ]
  },
  {
   "cell_type": "code",
   "execution_count": 8,
   "metadata": {
    "collapsed": true
   },
   "outputs": [],
   "source": [
    "X_obs = simulator([np.log(lambda_poisson) for i in range(nb_samples)])\n",
    "X_obs = X_obs[:,np.newaxis]\n",
    "X_obs = torch.Tensor(X_obs)"
   ]
  },
  {
   "cell_type": "markdown",
   "metadata": {},
   "source": [
    "## Definition of the optimizer"
   ]
  },
  {
   "cell_type": "markdown",
   "metadata": {},
   "source": [
    "### RMSprop"
   ]
  },
  {
   "cell_type": "code",
   "execution_count": 24,
   "metadata": {
    "collapsed": true
   },
   "outputs": [],
   "source": [
    "class RmsPropOptimizer:\n",
    "    def __init__(self, size_input, lr=0.01, gamma=1., eps=10**-8):\n",
    "        self.size_input = size_input\n",
    "        self.lr = lr\n",
    "        self.gamma = gamma\n",
    "        self.eps = eps\n",
    "\n",
    "        self.reset()\n",
    "\n",
    "    def reset(self):\n",
    "        self.avg_sq_grad = torch.ones(self.size_input)\n",
    "\n",
    "    def step(self, grad_approx, num_iters=1):\n",
    "        v = 0\n",
    "        for i in range(num_iters):\n",
    "            self.avg_sq_grad = self.avg_sq_grad * self.gamma + grad_approx**2 * (1 - self.gamma)\n",
    "            v = v + self.lr * grad_approx / torch.sqrt(self.avg_sq_grad + self.eps)\n",
    "        v /= num_iters\n",
    "        print(\"step: \", v)\n",
    "        return v"
   ]
  },
  {
   "cell_type": "code",
   "execution_count": 25,
   "metadata": {
    "collapsed": true
   },
   "outputs": [],
   "source": [
    "rms = RmsPropOptimizer(1, lr=0.1)\n",
    "x = torch.tensor([1.], requires_grad=True)\n",
    "y = x**2"
   ]
  },
  {
   "cell_type": "code",
   "execution_count": 58,
   "metadata": {},
   "outputs": [
    {
     "name": "stdout",
     "output_type": "stream",
     "text": [
      "step:  tensor(1.00000e-03 *\n",
      "       [ 3.6029])\n"
     ]
    },
    {
     "data": {
      "text/plain": [
       "tensor(1.00000e-02 *\n",
       "       [ 1.4412])"
      ]
     },
     "execution_count": 58,
     "metadata": {},
     "output_type": "execute_result"
    }
   ],
   "source": [
    "x.grad = torch.tensor([0.])\n",
    "y.backward(retain_graph=True)\n",
    "x.data.sub_(rms.step(x.grad))"
   ]
  },
  {
   "cell_type": "markdown",
   "metadata": {},
   "source": [
    "## Definition of the proposal distribution $q$"
   ]
  },
  {
   "cell_type": "code",
   "execution_count": 27,
   "metadata": {
    "collapsed": true
   },
   "outputs": [],
   "source": [
    "class Proposal(nn.Module):\n",
    "    def __init__(self, lr=0.01):\n",
    "        super(Proposal, self).__init__()\n",
    "        \n",
    "        self.psi = Parameter(torch.tensor([0., -1.]), requires_grad=True) # mean and log(std)\n",
    "\n",
    "        self.optimizer = RmsPropOptimizer(self.psi.shape[0], lr=lr)\n",
    "        \n",
    "    def forward(self, size):\n",
    "        return self.psi[0] +  torch.exp(self.psi[1]) * torch.normal(torch.zeros((size, 1)), torch.ones((size, 1)))\n",
    "    \n",
    "    def backprop(self, grad_approx):\n",
    "        step = self.optimizer.step(grad_approx)\n",
    "        self.psi[0].data.sub_(step[0])\n",
    "        \n",
    "    def pdf(self, theta):\n",
    "        return 1. / torch.sqrt(2 * np.pi * torch.exp(self.psi[1])**2) * torch.exp(-(torch.exp(theta) - self.psi[0])**2 / (2 * torch.exp(self.psi[1])))"
   ]
  },
  {
   "cell_type": "code",
   "execution_count": 28,
   "metadata": {
    "collapsed": true
   },
   "outputs": [],
   "source": [
    "p = Proposal()"
   ]
  },
  {
   "cell_type": "code",
   "execution_count": 29,
   "metadata": {
    "collapsed": true
   },
   "outputs": [],
   "source": [
    "p.zero_grad()\n",
    "l = torch.log(p.pdf(torch.tensor(0.)))\n",
    "l.backward()"
   ]
  },
  {
   "cell_type": "code",
   "execution_count": 30,
   "metadata": {},
   "outputs": [
    {
     "data": {
      "text/plain": [
       "tensor([ 2.7183,  0.3591])"
      ]
     },
     "execution_count": 30,
     "metadata": {},
     "output_type": "execute_result"
    }
   ],
   "source": [
    "p.psi.grad"
   ]
  },
  {
   "cell_type": "code",
   "execution_count": 31,
   "metadata": {},
   "outputs": [
    {
     "data": {
      "text/plain": [
       "tensor(0.2062)"
      ]
     },
     "execution_count": 31,
     "metadata": {},
     "output_type": "execute_result"
    }
   ],
   "source": [
    "p.pdf(torch.tensor(0.1))"
   ]
  },
  {
   "cell_type": "markdown",
   "metadata": {},
   "source": [
    "## Building the networks"
   ]
  },
  {
   "cell_type": "markdown",
   "metadata": {},
   "source": [
    "### Losses"
   ]
  },
  {
   "cell_type": "code",
   "execution_count": 32,
   "metadata": {
    "collapsed": true
   },
   "outputs": [],
   "source": [
    "def wgan_critic_loss(C_gen, C_real):\n",
    "    return torch.mean(C_gen) - torch.mean(C_real)\n",
    "\n",
    "def wgan_generator_loss(C_gen):\n",
    "    return -torch.mean(C_gen)"
   ]
  },
  {
   "cell_type": "code",
   "execution_count": 33,
   "metadata": {
    "collapsed": true
   },
   "outputs": [],
   "source": [
    "def ogan_critic_loss(C_gen, C_real, eps=1e-8):\n",
    "    return torch.mean(- torch.log(C_real+eps) - torch.log(1 - C_gen+eps))\n",
    "\n",
    "def ogan_generator_loss(C_gen, eps=1e-8):\n",
    "    return -torch.mean(torch.log(C_gen+eps))"
   ]
  },
  {
   "cell_type": "code",
   "execution_count": 34,
   "metadata": {
    "collapsed": true
   },
   "outputs": [],
   "source": [
    "def gradient_penalty(critic, X_real):\n",
    "    X_real.requires_grad_(True)\n",
    "    C_real = critic.forward(X_real)\n",
    "    out_grad = torch.ones(X_real.shape[0], 1) # used to define the size of the grad (grad_C(C) = [1,1,...])\n",
    "    gradients = autograd.grad(outputs=C_real, inputs=X_real,\n",
    "                              grad_outputs=out_grad, create_graph=True, retain_graph=True,\n",
    "                              only_inputs=True)[0]\n",
    "    return ((gradients.norm(2, dim=1))**2).mean()"
   ]
  },
  {
   "cell_type": "markdown",
   "metadata": {},
   "source": [
    "### Critic"
   ]
  },
  {
   "cell_type": "code",
   "execution_count": 35,
   "metadata": {
    "collapsed": true
   },
   "outputs": [],
   "source": [
    "class Critic(nn.Module):\n",
    "    def __init__(self):\n",
    "        super(Critic, self).__init__()\n",
    "        self.fc1 = nn.Linear(1,critic_params[\"nb_hiddens\"])\n",
    "        self.fc2 = nn.Linear(critic_params[\"nb_hiddens\"],critic_params[\"nb_hiddens\"])\n",
    "        self.fc3 = nn.Linear(critic_params[\"nb_hiddens\"],1)\n",
    "        \n",
    "        self.optimizer = torch.optim.RMSprop(self.parameters(), lr=critic_params[\"lr\"])\n",
    "        \n",
    "    def forward(self, x):\n",
    "        out = F.relu(self.fc1(x))\n",
    "        out = F.relu(self.fc2(out))\n",
    "        out = F.sigmoid(self.fc3(out))\n",
    "        \n",
    "        return out\n",
    "    \n",
    "    def loss(self, X_gen, X_real):\n",
    "        C_gen = self.forward(X_gen)\n",
    "        C_real = self.forward(X_real)\n",
    "#         print(\"C_gen\", C_gen)\n",
    "#         print(\"C_real\", C_real)\n",
    "        \n",
    "        return ogan_critic_loss(C_gen, C_real) #+ lambda_gp * gradient_penalty(self, X_real)"
   ]
  },
  {
   "cell_type": "markdown",
   "metadata": {},
   "source": [
    "### Generator"
   ]
  },
  {
   "cell_type": "code",
   "execution_count": 60,
   "metadata": {
    "collapsed": true
   },
   "outputs": [],
   "source": [
    "class Generator(nn.Module):\n",
    "    def __init__(self):\n",
    "        super(Generator, self).__init__()\n",
    "        \n",
    "    def forward(self, theta):\n",
    "        theta_np = theta.detach().numpy()\n",
    "        x_np = simulator(theta_np)\n",
    "        return torch.FloatTensor(x_np)\n",
    "    \n",
    "    def loss(self, C_gen):\n",
    "        return ogan_generator_loss(C_gen)\n",
    "    \n",
    "    def grad_approx(self, proposal, theta, C_gen, eps=1e-8):\n",
    "#         log_q_batch = torch.log(proposal.pdf(theta))\n",
    "        \n",
    "#         proposal.zero_grad()\n",
    "#         log_q_batch = torch.log(proposal.pdf(theta.detach()))\n",
    "#         log_q_batch.backward(-C_gen)\n",
    "#         grad_batch = proposal.psi.grad\n",
    "\n",
    "        grad_u = 0\n",
    "        for i in range(len(theta)):\n",
    "            proposal.zero_grad()\n",
    "            log_q = torch.log(proposal.pdf(theta[i]) + eps)\n",
    "            log_q.backward()\n",
    "            grad_u += - C_gen[i] * proposal.psi.grad\n",
    "        print(\"pdf\", proposal.pdf(theta[i].detach()))\n",
    "\n",
    "        grad_u /= theta.shape[0]\n",
    "            \n",
    "        return grad_u\n",
    "    \n",
    "    def entropy(self, proposal, theta, eps=1e-8):\n",
    "        grad_h = 0\n",
    "        for i in range(len(theta)):\n",
    "            proposal.zero_grad()\n",
    "            q = proposal.pdf(theta[i].detach())\n",
    "            H = q * torch.log(q + eps)\n",
    "            H.backward()\n",
    "            grad_h += proposal.psi.grad\n",
    "\n",
    "        grad_h /= theta.shape[0]\n",
    "            \n",
    "        return grad_h\n",
    "    \n",
    "    def backprop(self, proposal, theta, C_gen):\n",
    "        grad_u = self.grad_approx(proposal, theta.detach(), C_gen)\n",
    "        grad_h = self.entropy(proposal, theta)\n",
    "        print(\"grad_u\", grad_u)\n",
    "        print(\"grad_h\", gamma_entropy * grad_h)\n",
    "        proposal.backprop(grad_u + 0 * grad_h)"
   ]
  },
  {
   "cell_type": "markdown",
   "metadata": {},
   "source": [
    "## Main loop"
   ]
  },
  {
   "cell_type": "code",
   "execution_count": 61,
   "metadata": {
    "collapsed": true
   },
   "outputs": [],
   "source": [
    "i = 0\n",
    "C_loss_list = []\n",
    "G_loss_list = []\n",
    "\n",
    "proposal = Proposal(lr=0.01)\n",
    "critic = Critic()\n",
    "generator = Generator()"
   ]
  },
  {
   "cell_type": "code",
   "execution_count": 62,
   "metadata": {},
   "outputs": [
    {
     "name": "stdout",
     "output_type": "stream",
     "text": [
      "pdf tensor(1.00000e-03 *\n",
      "       [ 1.2718])\n",
      "grad_u tensor([-0.4120, -0.5302])\n",
      "grad_h tensor([-0.8154, -0.5042])\n",
      "step:  tensor(1.00000e-03 *\n",
      "       [-4.1201, -5.3018])\n",
      "Psi:  Parameter containing:\n",
      "tensor([ 2.1869, -1.0000])\n"
     ]
    },
    {
     "ename": "KeyboardInterrupt",
     "evalue": "",
     "output_type": "error",
     "traceback": [
      "\u001b[0;31m---------------------------------------------------------------------------\u001b[0m",
      "\u001b[0;31mKeyboardInterrupt\u001b[0m                         Traceback (most recent call last)",
      "\u001b[0;32m<ipython-input-62-87c407f16aa9>\u001b[0m in \u001b[0;36m<module>\u001b[0;34m()\u001b[0m\n\u001b[1;32m     28\u001b[0m         \u001b[0mC_gen\u001b[0m \u001b[0;34m=\u001b[0m \u001b[0mcritic\u001b[0m\u001b[0;34m(\u001b[0m\u001b[0mgenerator\u001b[0m\u001b[0;34m.\u001b[0m\u001b[0mforward\u001b[0m\u001b[0;34m(\u001b[0m\u001b[0mtheta_sample\u001b[0m\u001b[0;34m.\u001b[0m\u001b[0mdetach\u001b[0m\u001b[0;34m(\u001b[0m\u001b[0;34m)\u001b[0m\u001b[0;34m)\u001b[0m\u001b[0;34m)\u001b[0m\u001b[0;34m\u001b[0m\u001b[0m\n\u001b[1;32m     29\u001b[0m         \u001b[0mG_loss_list\u001b[0m\u001b[0;34m.\u001b[0m\u001b[0mappend\u001b[0m\u001b[0;34m(\u001b[0m\u001b[0mgenerator\u001b[0m\u001b[0;34m.\u001b[0m\u001b[0mloss\u001b[0m\u001b[0;34m(\u001b[0m\u001b[0mC_gen\u001b[0m\u001b[0;34m)\u001b[0m\u001b[0;34m)\u001b[0m\u001b[0;34m\u001b[0m\u001b[0m\n\u001b[0;32m---> 30\u001b[0;31m         \u001b[0msleep\u001b[0m\u001b[0;34m(\u001b[0m\u001b[0;36m0.1\u001b[0m\u001b[0;34m)\u001b[0m\u001b[0;34m\u001b[0m\u001b[0m\n\u001b[0m\u001b[1;32m     31\u001b[0m         \u001b[0mclear_output\u001b[0m\u001b[0;34m(\u001b[0m\u001b[0mwait\u001b[0m\u001b[0;34m=\u001b[0m\u001b[0;32mTrue\u001b[0m\u001b[0;34m)\u001b[0m\u001b[0;34m\u001b[0m\u001b[0m\n\u001b[1;32m     32\u001b[0m         \u001b[0mgenerator\u001b[0m\u001b[0;34m.\u001b[0m\u001b[0mbackprop\u001b[0m\u001b[0;34m(\u001b[0m\u001b[0mproposal\u001b[0m\u001b[0;34m,\u001b[0m \u001b[0mtheta_sample\u001b[0m\u001b[0;34m,\u001b[0m \u001b[0mC_gen\u001b[0m\u001b[0;34m)\u001b[0m\u001b[0;34m\u001b[0m\u001b[0m\n",
      "\u001b[0;31mKeyboardInterrupt\u001b[0m: "
     ]
    }
   ],
   "source": [
    "from time import sleep\n",
    "# print(proposal.psi)\n",
    "critic_params[\"nb_steps\"] = 5\n",
    "gen_params[\"nb_steps\"] = 2\n",
    "\n",
    "nb_iter = 100\n",
    "for i in range(i,i+nb_iter):\n",
    "    critic.optimizer.zero_grad()\n",
    "    \n",
    "    for i_critic in range(critic_params[\"nb_steps\"]):\n",
    "        X_real_sample = X_obs[np.random.choice(len(X_obs), batch_size)]\n",
    "        theta_sample = proposal.forward(batch_size)\n",
    "        X_gen_sample = torch.FloatTensor(simulator(theta_sample.detach().numpy()))\n",
    "        \n",
    "        C_loss = critic.loss(X_gen_sample, X_real_sample)\n",
    "        C_loss.backward()\n",
    "        critic.optimizer.step()\n",
    "    \n",
    "    # validation\n",
    "    X_real_sample = X_obs[np.random.choice(len(X_obs), batch_size)]\n",
    "    theta_sample = proposal.forward(batch_size)\n",
    "    X_gen_sample = torch.FloatTensor(simulator(theta_sample.detach().numpy()))\n",
    "    C_loss = critic.loss(X_gen_sample, X_real_sample)   \n",
    "    C_loss_list.append(C_loss)\n",
    "        \n",
    "    for i_gen in range(gen_params[\"nb_steps\"]):\n",
    "        theta_sample = proposal.forward(batch_size)\n",
    "        C_gen = critic(generator.forward(theta_sample.detach()))\n",
    "        G_loss_list.append(generator.loss(C_gen))\n",
    "        sleep(0.1)\n",
    "        clear_output(wait=True)\n",
    "        generator.backprop(proposal, theta_sample, C_gen)\n",
    "        print(\"Psi: \", proposal.psi)\n",
    "\n",
    "print(\"Critic Loss: \", C_loss)"
   ]
  },
  {
   "cell_type": "code",
   "execution_count": 59,
   "metadata": {},
   "outputs": [
    {
     "data": {
      "text/plain": [
       "Text(0,0.5,'Generator loss')"
      ]
     },
     "execution_count": 59,
     "metadata": {},
     "output_type": "execute_result"
    },
    {
     "data": {
      "image/png": "[encoded data removed]",
      "text/plain": [
       "<Figure size 1440x504 with 2 Axes>"
      ]
     },
     "metadata": {},
     "output_type": "display_data"
    }
   ],
   "source": [
    "plt.rcParams[\"figure.figsize\"] = (20,7)\n",
    "\n",
    "plt.subplot(1,2,1)\n",
    "\n",
    "plt.plot(C_loss_list)\n",
    "plt.xlabel(\"Number of iterations\", size=15)\n",
    "plt.ylabel(\"Critic loss\", size=15)\n",
    "\n",
    "plt.subplot(1,2,2)\n",
    "\n",
    "plt.plot(G_loss_list)\n",
    "plt.xlabel(\"Number of iterations\", size=15)\n",
    "plt.ylabel(\"Generator loss\", size=15)"
   ]
  },
  {
   "cell_type": "markdown",
   "metadata": {},
   "source": [
    "## Visualization"
   ]
  },
  {
   "cell_type": "code",
   "execution_count": 459,
   "metadata": {},
   "outputs": [
    {
     "data": {
      "text/plain": [
       "<matplotlib.legend.Legend at 0x7fc62ca314e0>"
      ]
     },
     "execution_count": 459,
     "metadata": {},
     "output_type": "execute_result"
    },
    {
     "data": {
      "image/png": "[encoded data removed]",
      "text/plain": [
       "<Figure size 1440x504 with 2 Axes>"
      ]
     },
     "metadata": {},
     "output_type": "display_data"
    }
   ],
   "source": [
    "theta_sample = proposal.forward(20000)\n",
    "X_gen_sample = torch.FloatTensor(simulator(theta_sample.detach().numpy()))\n",
    "\n",
    "hist1 = plt.hist(X_gen_sample[:,0], label=\"Generate distribution\", density=True, alpha=0.8)\n",
    "hist2 = plt.hist(X_obs[:,0], label=\"Real distribution\", density=True, alpha=0.8)\n",
    "\n",
    "cm = plt.cm.coolwarm\n",
    "\n",
    "x_min, x_max = 0, 25\n",
    "y_min, y_max = 0, 0.6\n",
    "h = .1\n",
    "xx, yy = np.meshgrid(np.arange(x_min, x_max, h), np.arange(y_min, y_max, h))\n",
    "levels = np.linspace(0,1,100)\n",
    "eps = 1\n",
    "Z = critic.forward(torch.FloatTensor(xx.reshape(xx.shape[0]*xx.shape[1], 1))).detach()\n",
    "Z = Z.reshape(xx.shape[0], xx.shape[1])\n",
    "plt.contourf(xx, yy, Z, levels, cmap=cm, alpha=0.8)\n",
    "\n",
    "plt.xlim(0,25)\n",
    "plt.ylim(0, 0.5)\n",
    "plt.colorbar()\n",
    "plt.legend()"
   ]
  },
  {
   "cell_type": "code",
   "execution_count": 118,
   "metadata": {},
   "outputs": [
    {
     "data": {
      "text/plain": [
       "array([4505])"
      ]
     },
     "execution_count": 118,
     "metadata": {},
     "output_type": "execute_result"
    }
   ],
   "source": [
    "simulator(max(theta_sample.detach()))"
   ]
  },
  {
   "cell_type": "code",
   "execution_count": 119,
   "metadata": {},
   "outputs": [
    {
     "data": {
      "text/plain": [
       "tensor([ 8.3894])"
      ]
     },
     "execution_count": 119,
     "metadata": {},
     "output_type": "execute_result"
    }
   ],
   "source": [
    "max(theta_sample.detach())"
   ]
  },
  {
   "cell_type": "code",
   "execution_count": null,
   "metadata": {
    "collapsed": true
   },
   "outputs": [],
   "source": [
    "xx.reshape(xx.shape[0]*xx.shape[1], 1)"
   ]
  },
  {
   "cell_type": "code",
   "execution_count": null,
   "metadata": {
    "collapsed": true
   },
   "outputs": [],
   "source": [
    "np.log(xx.reshape(xx.shape[0]*xx.shape[1], 1) + eps)"
   ]
  },
  {
   "cell_type": "code",
   "execution_count": null,
   "metadata": {
    "collapsed": true
   },
   "outputs": [],
   "source": [
    "np.log(xx.reshape(xx.shape[0]*xx.shape[1], 1) + eps)"
   ]
  },
  {
   "cell_type": "code",
   "execution_count": 104,
   "metadata": {},
   "outputs": [
    {
     "data": {
      "text/plain": [
       "403.4287934927351"
      ]
     },
     "execution_count": 104,
     "metadata": {},
     "output_type": "execute_result"
    }
   ],
   "source": [
    "np.exp(6)"
   ]
  },
  {
   "cell_type": "code",
   "execution_count": null,
   "metadata": {
    "collapsed": true
   },
   "outputs": [],
   "source": []
  }
 ],
 "metadata": {
  "kernelspec": {
   "display_name": "Python [conda env:rim-avo]",
   "language": "python",
   "name": "conda-env-rim-avo-py"
  },
  "language_info": {
   "codemirror_mode": {
    "name": "ipython",
    "version": 3
   },
   "file_extension": ".py",
   "mimetype": "text/x-python",
   "name": "python",
   "nbconvert_exporter": "python",
   "pygments_lexer": "ipython3",
   "version": "3.6.5"
  }
 },
 "nbformat": 4,
 "nbformat_minor": 2
}
